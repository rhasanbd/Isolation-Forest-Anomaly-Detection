{
 "cells": [
  {
   "cell_type": "markdown",
   "metadata": {},
   "source": [
    "# Isolation Forest\n",
    "\n",
    "In this notebook, we show how to use Scikit-Learn's Isolation Forest model to perform anomaly detection on a two-dimensional toy dataset.\n",
    "\n",
    "The use Scikit-Learn's Isolation Forest model for a practical problem can be found in the following notebook.\n",
    "\n",
    "https://github.com/rhasanbd/Anomaly-Detection-LOF-IsolationForest-FactMCD-GMM/blob/master/Anomaly%20Detection-LOF-IsolationForest-FastMCD-GMM.ipynb"
   ]
  },
  {
   "cell_type": "code",
   "execution_count": 1,
   "metadata": {},
   "outputs": [],
   "source": [
    "import numpy as np\n",
    "import matplotlib.pyplot as plt\n",
    "from sklearn.ensemble import IsolationForest"
   ]
  },
  {
   "cell_type": "markdown",
   "metadata": {},
   "source": [
    "## Create a 2D Toy Dataset\n",
    "\n",
    "In this dataset, we have two dense groups of 2D samples and a set of low-density samples or anomalies. Our goal is to see whether the IsolationForest model can identify the anomalous samples. "
   ]
  },
  {
   "cell_type": "code",
   "execution_count": 2,
   "metadata": {},
   "outputs": [],
   "source": [
    "# Create a seed for generating random numbers\n",
    "rng = np.random.RandomState(42)\n",
    "\n",
    "# Generate a set of 2D normal data points as two dense groups \n",
    "X_normal = 0.2 * rng.randn(1000, 2)\n",
    "X_normal = np.r_[X_normal + 3, X_normal]\n",
    "\n",
    "# Generate a set of 2D outlier data points\n",
    "X_outliers = rng.uniform(low=-1, high=5, size=(50, 2))\n",
    "\n",
    "# Concatenate \"normal\" and \"outlier\" samples\n",
    "X = np.r_[X_normal, X_outliers]"
   ]
  },
  {
   "cell_type": "code",
   "execution_count": 3,
   "metadata": {},
   "outputs": [
    {
     "data": {
      "image/png": "[encoded data removed]",
      "text/plain": [
       "<Figure size 864x576 with 1 Axes>"
      ]
     },
     "metadata": {},
     "output_type": "display_data"
    }
   ],
   "source": [
    "# Create a scatter plot for the 2D data\n",
    "plt.figure(figsize = (12, 8))\n",
    "plt.scatter(X[:, 0], X[:, 1], c=\"white\", edgecolor='k', marker='o')\n",
    "plt.xlabel(\"$x_1$\", fontsize=12)\n",
    "plt.ylabel(\"$x_2$\", rotation=90, fontsize=12)\n",
    "plt.xticks([])\n",
    "plt.yticks([])\n",
    "plt.show()"
   ]
  },
  {
   "cell_type": "markdown",
   "metadata": {},
   "source": [
    "## Isolation Forest\n",
    "\n",
    "We use Scikit-Learn's IsolationForest model for performing anomaly detection. \n",
    "\n",
    "https://scikit-learn.org/stable/modules/generated/sklearn.ensemble.IsolationForest.html#sklearn.ensemble.IsolationForest.decision_function\n",
    "\n",
    "\n",
    "We need to set the following hyperparameters.\n",
    "\n",
    "\n",
    "- n_estimators int, default=100\n",
    "The number of base estimators in the ensemble.\n",
    "\n",
    "\n",
    "- max_samples “auto”, int or float, default=”auto”\n",
    "The number of samples to draw from X to train each base estimator.\n",
    "\n",
    "\n",
    "- contamination ‘auto’ or float, default=’auto’\n",
    "The amount of contamination of the data set, i.e. the proportion of outliers in the data set. Used when fitting to define the threshold on the scores of the samples.\n",
    "\n",
    "    -- If ‘auto’, the threshold is determined as in the original paper.\n",
    "\n",
    "    -- If float, the contamination should be in the range (0, 0.5].\n",
    "\n",
    "\n",
    "- random_state int, RandomState instance or None, default=None\n",
    "Controls the pseudo-randomness of the selection of the feature and split values for each branching step and each tree in the forest.\n",
    "\n",
    "    -- Pass an int for reproducible results across multiple function calls. See Glossary.\n",
    "\n",
    "- verbose int, default=0\n",
    "Controls the verbosity of the tree building process.\n",
    "\n",
    "\n",
    "### Methods\n",
    "\n",
    "Following two IsolationForest methods are useful.\n",
    "\n",
    "- predict(X)\n",
    "\n",
    "        Predict if a particular sample is an outlier or not.\n",
    "        \n",
    "The \"predict\" method generates labels for each data point.\n",
    "\n",
    "    +1: inlier\n",
    "    -1: outlier\n",
    "\n",
    "- score_samples(X)\n",
    "\n",
    "        Opposite of the anomaly score defined in the original paper.\n",
    "        \n",
    "        \n",
    "## Train the Isoloation Forest Model"
   ]
  },
  {
   "cell_type": "code",
   "execution_count": 4,
   "metadata": {},
   "outputs": [
    {
     "name": "stderr",
     "output_type": "stream",
     "text": [
      "[Parallel(n_jobs=1)]: Using backend SequentialBackend with 1 concurrent workers.\n"
     ]
    },
    {
     "name": "stdout",
     "output_type": "stream",
     "text": [
      "[ 1  1  1  1  1  1  1  1  1  1  1  1  1  1  1  1  1  1  1  1  1  1  1  1\n",
      "  1  1  1  1  1  1  1  1  1  1  1  1  1 -1  1  1  1  1  1  1  1  1  1  1\n",
      "  1  1]\n"
     ]
    },
    {
     "name": "stderr",
     "output_type": "stream",
     "text": [
      "[Parallel(n_jobs=1)]: Done   1 out of   1 | elapsed:    0.2s finished\n"
     ]
    }
   ],
   "source": [
    "# Train the model\n",
    "clf = IsolationForest(max_samples=100, contamination = 0.1, random_state=rng, verbose=1)\n",
    "clf.fit(X)\n",
    "\n",
    "# Generate labels for each data point (+1 inlier & -1 outlier).\n",
    "y_pred = clf.predict(X)\n",
    "\n",
    "\n",
    "# Display some predicted labels\n",
    "print(y_pred[0:50])"
   ]
  },
  {
   "cell_type": "markdown",
   "metadata": {},
   "source": [
    "## Create a Set of Inlier (Normal) & Outlier Samples\n",
    "\n",
    "Based on the predicted labels, we create two arrays.\n",
    "- Inlier (normal samples)\n",
    "- Outlier"
   ]
  },
  {
   "cell_type": "code",
   "execution_count": 5,
   "metadata": {},
   "outputs": [],
   "source": [
    "normal = []\n",
    "outliers = []\n",
    "\n",
    "for i in range(len(y_pred)):\n",
    "    if(y_pred[i] == 1):\n",
    "        normal.append(X[i])\n",
    "    else:\n",
    "        outliers.append(X[i])\n",
    "  \n",
    "\n",
    "# Convert the lists into numpy arrays\n",
    "normal = np.asarray(normal)\n",
    "outliers = np.asarray(outliers)"
   ]
  },
  {
   "cell_type": "markdown",
   "metadata": {},
   "source": [
    "## Display the Inliers (Blue) and Outliers (Red) on a Scatter Plot"
   ]
  },
  {
   "cell_type": "code",
   "execution_count": 6,
   "metadata": {},
   "outputs": [
    {
     "data": {
      "image/png": "[encoded data removed]",
      "text/plain": [
       "<Figure size 864x576 with 1 Axes>"
      ]
     },
     "metadata": {},
     "output_type": "display_data"
    }
   ],
   "source": [
    "plt.figure(figsize = (12, 8))\n",
    "plt.scatter(normal[:, 0], normal[:, 1], c=\"b\", marker='o', label=\"normal\")\n",
    "plt.scatter(outliers[:, 0], outliers[:, 1], c=\"r\", marker='o', label=\"outliers\")\n",
    "plt.xlabel(\"$x_1$\", fontsize=12)\n",
    "plt.ylabel(\"$x_2$\", rotation=90, fontsize=12)\n",
    "plt.legend()\n",
    "plt.xticks([])\n",
    "plt.yticks([])\n",
    "plt.show()"
   ]
  }
 ],
 "metadata": {
  "kernelspec": {
   "display_name": "Python 3",
   "language": "python",
   "name": "python3"
  },
  "language_info": {
   "codemirror_mode": {
    "name": "ipython",
    "version": 3
   },
   "file_extension": ".py",
   "mimetype": "text/x-python",
   "name": "python",
   "nbconvert_exporter": "python",
   "pygments_lexer": "ipython3",
   "version": "3.7.3"
  }
 },
 "nbformat": 4,
 "nbformat_minor": 2
}
